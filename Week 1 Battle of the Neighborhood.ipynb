{
 "cells": [
  {
   "cell_type": "markdown",
   "metadata": {},
   "source": [
    "## A description of the problem and a discussion of the background. (15 marks)\n",
    "The problem here strictly competition.  A lot of small businesses fail because they have too much competition and they have an idea that is being used by everyone.  Perhaps there is too many restaurants doing the same thing as you want to do and the location you are looking at is too close to competing restaurants.   Knowing this data before you make a decision on where and when to start a business is crucial.  \n",
    "    \n",
    "### A description of the data and how it will be used to solve the problem. (15 marks)\n",
    "The data here is of the New York City vicinity and of the 5 boroughs and the 306 neighborhoods in NYC.  The data is a json file from \"https://cocl.us/new_york_dataset\".  We are also tapping into Foursquare API to get data from the type of venue near certain latitude and longitude.  This data will be used to many different people. Consultants could use it to guide people.  Market researchers can use it to help companies find better locations for new businesses.  "
   ]
  }
 ],
 "metadata": {
  "kernelspec": {
   "display_name": "Python",
   "language": "python",
   "name": "conda-env-python-py"
  },
  "language_info": {
   "codemirror_mode": {
    "name": "ipython",
    "version": 3
   },
   "file_extension": ".py",
   "mimetype": "text/x-python",
   "name": "python",
   "nbconvert_exporter": "python",
   "pygments_lexer": "ipython3",
   "version": "3.6.10"
  }
 },
 "nbformat": 4,
 "nbformat_minor": 4
}
